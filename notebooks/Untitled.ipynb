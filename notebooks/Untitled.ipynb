{
 "cells": [
  {
   "cell_type": "code",
   "execution_count": 56,
   "id": "3fda973d-9d30-4e90-b90a-ec3464e28a76",
   "metadata": {},
   "outputs": [],
   "source": [
    "import pandas as pd"
   ]
  },
  {
   "cell_type": "code",
   "execution_count": 57,
   "id": "bbb5fffc-ba2a-4988-af4d-329582e6ad07",
   "metadata": {
    "scrolled": true
   },
   "outputs": [],
   "source": [
    "file_path = r\"C:\\Users\\hp\\Downloads\\population-and-demography.csv\""
   ]
  },
  {
   "cell_type": "code",
   "execution_count": 58,
   "id": "c264afb0-0bde-41ca-9216-b385c4162d40",
   "metadata": {},
   "outputs": [],
   "source": [
    "data = pd.read_csv(file_path)"
   ]
  },
  {
   "cell_type": "code",
   "execution_count": 59,
   "id": "5ea39be6-650c-4784-a9b7-80a36e02005b",
   "metadata": {
    "scrolled": true
   },
   "outputs": [
    {
     "name": "stdout",
     "output_type": "stream",
     "text": [
      "        Entity Code  Year  \\\n",
      "0  Afghanistan  AFG  1950   \n",
      "1  Afghanistan  AFG  1951   \n",
      "2  Afghanistan  AFG  1952   \n",
      "3  Afghanistan  AFG  1953   \n",
      "4  Afghanistan  AFG  1954   \n",
      "\n",
      "   Population - Sex: all - Age: all - Variant: estimates  \n",
      "0                                            7776182      \n",
      "1                                            7879343      \n",
      "2                                            7987783      \n",
      "3                                            8096703      \n",
      "4                                            8207953      \n"
     ]
    }
   ],
   "source": [
    "print(data.head())\n"
   ]
  },
  {
   "cell_type": "code",
   "execution_count": 60,
   "id": "54e2192f-da3b-4a05-9ff4-2dec2e2c566a",
   "metadata": {},
   "outputs": [
    {
     "name": "stdout",
     "output_type": "stream",
     "text": [
      "Requirement already satisfied: matplotlib in c:\\users\\hp\\onedrive\\documents\\github\\world-population-analysis\\venv\\lib\\site-packages (3.9.1)\n",
      "Requirement already satisfied: contourpy>=1.0.1 in c:\\users\\hp\\onedrive\\documents\\github\\world-population-analysis\\venv\\lib\\site-packages (from matplotlib) (1.2.1)\n",
      "Requirement already satisfied: pyparsing>=2.3.1 in c:\\users\\hp\\onedrive\\documents\\github\\world-population-analysis\\venv\\lib\\site-packages (from matplotlib) (3.1.2)\n",
      "Requirement already satisfied: kiwisolver>=1.3.1 in c:\\users\\hp\\onedrive\\documents\\github\\world-population-analysis\\venv\\lib\\site-packages (from matplotlib) (1.4.5)\n",
      "Requirement already satisfied: python-dateutil>=2.7 in c:\\users\\hp\\onedrive\\documents\\github\\world-population-analysis\\venv\\lib\\site-packages (from matplotlib) (2.9.0.post0)\n",
      "Requirement already satisfied: packaging>=20.0 in c:\\users\\hp\\onedrive\\documents\\github\\world-population-analysis\\venv\\lib\\site-packages (from matplotlib) (24.1)\n",
      "Requirement already satisfied: numpy>=1.23 in c:\\users\\hp\\onedrive\\documents\\github\\world-population-analysis\\venv\\lib\\site-packages (from matplotlib) (2.0.1)\n",
      "Requirement already satisfied: fonttools>=4.22.0 in c:\\users\\hp\\onedrive\\documents\\github\\world-population-analysis\\venv\\lib\\site-packages (from matplotlib) (4.53.1)\n",
      "Requirement already satisfied: pillow>=8 in c:\\users\\hp\\onedrive\\documents\\github\\world-population-analysis\\venv\\lib\\site-packages (from matplotlib) (10.4.0)\n",
      "Requirement already satisfied: cycler>=0.10 in c:\\users\\hp\\onedrive\\documents\\github\\world-population-analysis\\venv\\lib\\site-packages (from matplotlib) (0.12.1)\n",
      "Requirement already satisfied: six>=1.5 in c:\\users\\hp\\onedrive\\documents\\github\\world-population-analysis\\venv\\lib\\site-packages (from python-dateutil>=2.7->matplotlib) (1.16.0)\n"
     ]
    },
    {
     "name": "stderr",
     "output_type": "stream",
     "text": [
      "\n",
      "[notice] A new release of pip available: 22.2.2 -> 24.2\n",
      "[notice] To update, run: python.exe -m pip install --upgrade pip\n"
     ]
    }
   ],
   "source": [
    "!pip install matplotlib\n"
   ]
  },
  {
   "cell_type": "code",
   "execution_count": 61,
   "id": "98ff154c-e0a8-4b97-a770-98e358171dd4",
   "metadata": {},
   "outputs": [],
   "source": [
    "import matplotlib.pyplot as plt"
   ]
  },
  {
   "cell_type": "code",
   "execution_count": null,
   "id": "b3f7a372-1675-4f09-abc7-30d62b2424ba",
   "metadata": {},
   "outputs": [],
   "source": []
  },
  {
   "cell_type": "code",
   "execution_count": 62,
   "id": "7d2930da-d240-4f30-ad3a-6fea52c7cfe9",
   "metadata": {},
   "outputs": [
    {
     "name": "stdout",
     "output_type": "stream",
     "text": [
      "        Entity Code  Year  \\\n",
      "0  Afghanistan  AFG  1950   \n",
      "1  Afghanistan  AFG  1951   \n",
      "2  Afghanistan  AFG  1952   \n",
      "3  Afghanistan  AFG  1953   \n",
      "4  Afghanistan  AFG  1954   \n",
      "\n",
      "   Population - Sex: all - Age: all - Variant: estimates  \n",
      "0                                            7776182      \n",
      "1                                            7879343      \n",
      "2                                            7987783      \n",
      "3                                            8096703      \n",
      "4                                            8207953      \n"
     ]
    }
   ],
   "source": [
    "print(data.head())"
   ]
  },
  {
   "cell_type": "code",
   "execution_count": 63,
   "id": "3d272a2a-a561-4a66-9149-508d9e941e72",
   "metadata": {},
   "outputs": [
    {
     "data": {
      "text/plain": [
       "0        Afghanistan\n",
       "1        Afghanistan\n",
       "2        Afghanistan\n",
       "3        Afghanistan\n",
       "4        Afghanistan\n",
       "            ...     \n",
       "18939       Zimbabwe\n",
       "18940       Zimbabwe\n",
       "18941       Zimbabwe\n",
       "18942       Zimbabwe\n",
       "18943       Zimbabwe\n",
       "Name: Entity, Length: 18944, dtype: object"
      ]
     },
     "execution_count": 63,
     "metadata": {},
     "output_type": "execute_result"
    }
   ],
   "source": [
    "data[\"Entity\"]"
   ]
  },
  {
   "cell_type": "code",
   "execution_count": 64,
   "id": "46d5e126-b936-4e47-8970-86ae602edb50",
   "metadata": {},
   "outputs": [
    {
     "name": "stdout",
     "output_type": "stream",
     "text": [
      "<class 'pandas.core.frame.DataFrame'>\n",
      "RangeIndex: 18944 entries, 0 to 18943\n",
      "Data columns (total 4 columns):\n",
      " #   Column                                                 Non-Null Count  Dtype \n",
      "---  ------                                                 --------------  ----- \n",
      " 0   Entity                                                 18944 non-null  object\n",
      " 1   Code                                                   17612 non-null  object\n",
      " 2   Year                                                   18944 non-null  int64 \n",
      " 3   Population - Sex: all - Age: all - Variant: estimates  18944 non-null  int64 \n",
      "dtypes: int64(2), object(2)\n",
      "memory usage: 592.1+ KB\n"
     ]
    }
   ],
   "source": [
    "data.info()"
   ]
  },
  {
   "cell_type": "code",
   "execution_count": 65,
   "id": "1a04c24b-817a-45a1-bf27-9c05069bc9c3",
   "metadata": {},
   "outputs": [],
   "source": [
    "data = data.rename(columns={'Population - Sex: all - Age: all - Variant: estimates':\"population\"})"
   ]
  },
  {
   "cell_type": "code",
   "execution_count": 66,
   "id": "a14c1719-2591-46b9-a909-4fd3a9dfd63e",
   "metadata": {},
   "outputs": [
    {
     "name": "stdout",
     "output_type": "stream",
     "text": [
      "<class 'pandas.core.frame.DataFrame'>\n",
      "RangeIndex: 18944 entries, 0 to 18943\n",
      "Data columns (total 4 columns):\n",
      " #   Column      Non-Null Count  Dtype \n",
      "---  ------      --------------  ----- \n",
      " 0   Entity      18944 non-null  object\n",
      " 1   Code        17612 non-null  object\n",
      " 2   Year        18944 non-null  int64 \n",
      " 3   population  18944 non-null  int64 \n",
      "dtypes: int64(2), object(2)\n",
      "memory usage: 592.1+ KB\n"
     ]
    }
   ],
   "source": [
    "data.info()"
   ]
  },
  {
   "cell_type": "code",
   "execution_count": 67,
   "id": "f82438ee-f59a-46c6-aabd-6e3b4104703e",
   "metadata": {},
   "outputs": [],
   "source": [
    "afghanistan_data = data[data['Entity'] == 'Afghanistan']"
   ]
  },
  {
   "cell_type": "code",
   "execution_count": 68,
   "id": "7007d617-0034-4775-835c-59b3c1cc04aa",
   "metadata": {},
   "outputs": [
    {
     "data": {
      "text/plain": [
       "<Figure size 1000x600 with 0 Axes>"
      ]
     },
     "execution_count": 68,
     "metadata": {},
     "output_type": "execute_result"
    },
    {
     "data": {
      "text/plain": [
       "<Figure size 1000x600 with 0 Axes>"
      ]
     },
     "metadata": {},
     "output_type": "display_data"
    }
   ],
   "source": [
    "plt.figure(figsize=(10, 6))"
   ]
  },
  {
   "cell_type": "code",
   "execution_count": 75,
   "id": "ca0ac89b-e149-42b9-8194-3cddcd7c069f",
   "metadata": {},
   "outputs": [
    {
     "data": {
      "image/png": "[encoded data removed]",
      "text/plain": [
       "<Figure size 640x480 with 1 Axes>"
      ]
     },
     "metadata": {},
     "output_type": "display_data"
    }
   ],
   "source": [
    "plt.plot(afghanistan_data['Year'], afghanistan_data['population'], marker='o')\n",
    "plt.xlabel('Country')\n",
    "plt.ylabel('Population')\n",
    "plt.show()"
   ]
  },
  {
   "cell_type": "code",
   "execution_count": 70,
   "id": "30266bd9-5003-442e-922f-ac38d3e101d2",
   "metadata": {},
   "outputs": [
    {
     "data": {
      "text/plain": [
       "Text(0.5, 0, 'Country')"
      ]
     },
     "execution_count": 70,
     "metadata": {},
     "output_type": "execute_result"
    },
    {
     "data": {
      "image/png": "[encoded data removed]",
      "text/plain": [
       "<Figure size 640x480 with 1 Axes>"
      ]
     },
     "metadata": {},
     "output_type": "display_data"
    }
   ],
   "source": []
  },
  {
   "cell_type": "code",
   "execution_count": 74,
   "id": "eef53723-add9-4ad2-81cc-08361ab1af90",
   "metadata": {},
   "outputs": [
    {
     "data": {
      "text/plain": [
       "Text(0, 0.5, 'Population')"
      ]
     },
     "execution_count": 74,
     "metadata": {},
     "output_type": "execute_result"
    },
    {
     "data": {
      "image/png": "[encoded data removed]",
      "text/plain": [
       "<Figure size 640x480 with 1 Axes>"
      ]
     },
     "metadata": {},
     "output_type": "display_data"
    }
   ],
   "source": [
    "plt.ylabel('Population')"
   ]
  },
  {
   "cell_type": "code",
   "execution_count": 73,
   "id": "7fb50eda-8dee-43aa-9c0a-42d71ea77f60",
   "metadata": {},
   "outputs": [],
   "source": [
    "plt.show()"
   ]
  },
  {
   "cell_type": "code",
   "execution_count": null,
   "id": "1016daf2-bd8c-422f-a9e6-c0d60c15a61d",
   "metadata": {},
   "outputs": [],
   "source": []
  },
  {
   "cell_type": "code",
   "execution_count": null,
   "id": "0ff71c68-1499-457e-b145-d2a376c53b7a",
   "metadata": {},
   "outputs": [],
   "source": []
  }
 ],
 "metadata": {
  "kernelspec": {
   "display_name": "Python 3 (ipykernel)",
   "language": "python",
   "name": "python3"
  },
  "language_info": {
   "codemirror_mode": {
    "name": "ipython",
    "version": 3
   },
   "file_extension": ".py",
   "mimetype": "text/x-python",
   "name": "python",
   "nbconvert_exporter": "python",
   "pygments_lexer": "ipython3",
   "version": "3.10.8"
  }
 },
 "nbformat": 4,
 "nbformat_minor": 5
}
